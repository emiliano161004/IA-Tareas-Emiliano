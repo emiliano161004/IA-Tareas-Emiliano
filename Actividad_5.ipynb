{
  "nbformat": 4,
  "nbformat_minor": 0,
  "metadata": {
    "colab": {
      "provenance": [],
      "authorship_tag": "ABX9TyOqjscKNKzZHsIMTuAwwDbi",
      "include_colab_link": true
    },
    "kernelspec": {
      "name": "python3",
      "display_name": "Python 3"
    },
    "language_info": {
      "name": "python"
    }
  },
  "cells": [
    {
      "cell_type": "markdown",
      "metadata": {
        "id": "view-in-github",
        "colab_type": "text"
      },
      "source": [
        "<a href=\"https://colab.research.google.com/github/emiliano161004/IA-Tareas-Emiliano/blob/main/Actividad_5.ipynb\" target=\"_parent\"><img src=\"https://colab.research.google.com/assets/colab-badge.svg\" alt=\"Open In Colab\"/></a>"
      ]
    },
    {
      "cell_type": "markdown",
      "source": [
        "Actividad 5: Procesamiento de conjuntos de datos en Python\n"
      ],
      "metadata": {
        "id": "7rIvFQv4Z_q8"
      }
    },
    {
      "cell_type": "code",
      "execution_count": 17,
      "metadata": {
        "id": "hbvBIhjNTKd_"
      },
      "outputs": [],
      "source": [
        "import numpy as np\n",
        "import matplotlib.pyplot as plt\n",
        "import pandas as pd"
      ]
    },
    {
      "cell_type": "code",
      "source": [
        "df = pd.read_csv('/content/robot_sensors.csv')"
      ],
      "metadata": {
        "id": "3v7tBHKIWUTZ"
      },
      "execution_count": 25,
      "outputs": []
    },
    {
      "cell_type": "code",
      "source": [
        "print(df.head(10))"
      ],
      "metadata": {
        "colab": {
          "base_uri": "https://localhost:8080/"
        },
        "id": "6E2Nl3bzW9_h",
        "outputId": "a7d77eea-8e59-4615-ec59-d4635636fd07"
      },
      "execution_count": 27,
      "outputs": [
        {
          "output_type": "stream",
          "name": "stdout",
          "text": [
            "   Tiempo (s)  Distancia (cm)  Velocidad (cm/s)  Temperatura (°C)\n",
            "0           0       43.708611          9.256646         23.925585\n",
            "1           1       95.564288         27.095047         23.704682\n",
            "2           2       75.879455         43.647292         33.593819\n",
            "3           3       63.879264         36.611244         23.743193\n",
            "4           4       24.041678         40.328057         24.079246\n",
            "5           5       24.039507         32.939168         31.390974\n",
            "6           6       15.227525         34.613828         26.746098\n",
            "7           7       87.955853         42.459783         31.650658\n",
            "8           8       64.100351         12.483400         20.980492\n",
            "9           9       73.726532         24.471248         27.313568\n"
          ]
        }
      ]
    },
    {
      "cell_type": "code",
      "source": [
        "print(df.isnull().sum())"
      ],
      "metadata": {
        "colab": {
          "base_uri": "https://localhost:8080/"
        },
        "id": "KqOzqiWiXTPd",
        "outputId": "3d80973c-b0fb-4b5e-c931-7042aac260d8"
      },
      "execution_count": 28,
      "outputs": [
        {
          "output_type": "stream",
          "name": "stdout",
          "text": [
            "Tiempo (s)           0\n",
            "Distancia (cm)      30\n",
            "Velocidad (cm/s)    30\n",
            "Temperatura (°C)    30\n",
            "dtype: int64\n"
          ]
        }
      ]
    },
    {
      "cell_type": "code",
      "source": [
        "df = df.dropna()"
      ],
      "metadata": {
        "id": "ZEzObWOAYTum"
      },
      "execution_count": 29,
      "outputs": []
    },
    {
      "cell_type": "code",
      "source": [
        "df = df[df['Distancia (cm)'] >= 0]\n",
        "df = df[df['Velocidad (cm/s)'] >= 0]"
      ],
      "metadata": {
        "id": "UJ0CScI9ZfDf"
      },
      "execution_count": 30,
      "outputs": []
    },
    {
      "cell_type": "code",
      "source": [
        "from sklearn.preprocessing import MinMaxScaler"
      ],
      "metadata": {
        "id": "kiXlcGCwZxYx"
      },
      "execution_count": 31,
      "outputs": []
    },
    {
      "cell_type": "code",
      "source": [
        "scaler = MinMaxScaler()\n",
        "columnas_numericas = ['Tiempo (s)', 'Distancia (cm)', 'Velocidad (cm/s)', 'Temperatura (°C)']\n",
        "\n",
        "df_normalizado = df.copy()\n",
        "df_normalizado[columnas_numericas] = scaler.fit_transform(df[columnas_numericas])\n",
        "\n",
        "print(\"\\nDatos normalizados (primeras filas):\")\n",
        "print(df_normalizado.head())"
      ],
      "metadata": {
        "colab": {
          "base_uri": "https://localhost:8080/"
        },
        "id": "e9cjXqI4Z2IB",
        "outputId": "c10421d3-345a-41aa-d5cf-6d0c02aeb7e2"
      },
      "execution_count": 32,
      "outputs": [
        {
          "output_type": "stream",
          "name": "stdout",
          "text": [
            "\n",
            "Datos normalizados (primeras filas):\n",
            "   Tiempo (s)  Distancia (cm)  Velocidad (cm/s)  Temperatura (°C)\n",
            "0    0.000000        0.371735          0.182609          0.262269\n",
            "1    0.001001        0.950755          0.540740          0.247509\n",
            "2    0.002002        0.730954          0.873049          0.908233\n",
            "3    0.003003        0.596960          0.731791          0.250082\n",
            "4    0.004004        0.152134          0.806411          0.272535\n"
          ]
        }
      ]
    }
  ]
}